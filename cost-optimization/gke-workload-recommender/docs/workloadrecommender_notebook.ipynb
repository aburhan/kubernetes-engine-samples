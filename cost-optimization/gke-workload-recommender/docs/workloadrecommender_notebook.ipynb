{
  "cells": [
    {
      "cell_type": "code",
      "execution_count": null,
      "metadata": {},
      "outputs": [],
      "source": [
        "# Copyright 2025 Google LLC\n",
        "#\n",
        "#\n",
        "# Licensed under the Apache License, Version 2.0 (the \"License\");\n",
        "# you may not use this file except in compliance with the License.\n",
        "# You may obtain a copy of the License at\n",
        "#\n",
        "#     https://www.apache.org/licenses/LICENSE-2.0\n",
        "#\n",
        "# Unless required by applicable law or agreed to in writing, software\n",
        "# distributed under the License is distributed on an \"AS IS\" BASIS,\n",
        "# WITHOUT WARRANTIES OR CONDITIONS OF ANY KIND, either express or implied.\n",
        "# See the License for the specific language governing permissions and\n",
        "# limitations under the License."
      ]
    },
    {
      "cell_type": "markdown",
      "metadata": {
        "id": "F5NeGWWU_ZRa"
      },
      "source": [
        "# Workload Recommender Module Deployment Guide\n",
        "\n",
        "\n",
        "Ensure you have Python installed and then execute the following commands to build and install the library locally.\n"
      ]
    },
    {
      "cell_type": "code",
      "execution_count": null,
      "metadata": {
        "id": "O9iW9oWt_YLv"
      },
      "outputs": [],
      "source": [
        "# Install build tool and build the project\n",
        "! python3 -m pip install --upgrade build\n",
        "! python3 -m build"
      ]
    },
    {
      "cell_type": "code",
      "execution_count": null,
      "metadata": {
        "id": "pMw4aVXq_8Kf"
      },
      "outputs": [],
      "source": [
        "# Install the built library\n",
        "! pip install dist/workloadrecommender-*.tar.gz --quiet"
      ]
    },
    {
      "cell_type": "code",
      "execution_count": null,
      "metadata": {
        "id": "TKlbZ7xAACnA"
      },
      "outputs": [],
      "source": [
        "# ## Step 2: Authenticate with Google Cloud\n",
        "# You need to authenticate with Google Cloud to access GKE metrics.\n",
        "\n",
        "# Authenticate using Google Cloud SDK\n",
        "! gcloud auth application-default login"
      ]
    },
    {
      "cell_type": "code",
      "execution_count": null,
      "metadata": {
        "id": "JfOibFN8AIHj"
      },
      "outputs": [],
      "source": [
        "# ## Step 3: Import Required Modules and Define Workload Details\n",
        "# Import the necessary modules and define your Kubernetes workload details.\n",
        "from workloadrecommender.hpa_simulation_run import(\n",
        "        run_hpa_simulation_plans\n",
        ")\n",
        "from workloadrecommender.hpa_simulation_plan import(\n",
        "        get_hpa_simulation_plans\n",
        ")\n",
        "from workloadrecommender.utils.config import HPAConfig\n",
        "from workloadrecommender.utils.models import (\n",
        "    WorkloadDetails\n",
        ")\n",
        "hpa_config = HPAConfig()"
      ]
    },
    {
      "cell_type": "code",
      "execution_count": null,
      "metadata": {
        "id": "ksDrL7bSD97c"
      },
      "outputs": [],
      "source": [
        "from datetime import datetime, timedelta\n",
        "\n",
        "# Parameters (from user inputs)\n",
        "ANALYSIS_PERIOD_START_DATETIME = \"2025-01-01 16:30:00+00:00\"  #@param {type:\"string\"}\n",
        "ANALYSIS_PERIOD_END_DATETIME = \"2025-01-15 16:30:00+00:00\"  #@param {type:\"string\"}\n",
        "PROJECT_ID = 'gtools-koptimize'  #@param {type:\"string\"}\n",
        "LOCATION = 'us-central1'  #@param {type:\"string\"}\n",
        "CLUSTER_NAME = 'online-boutique-ca'  #@param {type:\"string\"}\n",
        "NAMESPACE = 'default'  #@param {type:\"string\"}\n",
        "CONTAINER_NAME = 'perf-server-js'  #@param {type:\"string\"}\n",
        "CONTROLLER_NAME = 'perf-server-js'  #@param {type:\"string\"}\n",
        "CONTROLLER_TYPE = 'Deployment'  #@param {type:\"string\"}\n",
        "\n",
        "# Validate parameters\n",
        "try:\n",
        "    start_datetime = datetime.strptime(ANALYSIS_PERIOD_START_DATETIME, \"%Y-%m-%d %H:%M:%S%z\")\n",
        "    end_datetime = datetime.strptime(ANALYSIS_PERIOD_END_DATETIME, \"%Y-%m-%d %H:%M:%S%z\")\n",
        "\n",
        "    # Ensure all fields are entered and validate dates\n",
        "    if not all([PROJECT_ID, LOCATION, CLUSTER_NAME, NAMESPACE, CONTAINER_NAME, CONTROLLER_NAME, CONTROLLER_TYPE]):\n",
        "        raise ValueError(\"All workload search parameters must be provided.\")\n",
        "    if start_datetime >= end_datetime:\n",
        "        raise ValueError(\"The start date must be earlier than the end date.\")\n",
        "    if start_datetime < datetime.now(tz=start_datetime.tzinfo) - timedelta(weeks=6):\n",
        "        raise ValueError(\"The start date must be within the last 6 weeks.\")\n",
        "except ValueError as e:\n",
        "    print(f\"Parameter validation error: {e}\")\n",
        "    raise"
      ]
    },
    {
      "cell_type": "code",
      "execution_count": null,
      "metadata": {
        "id": "sR9iTprFAet4"
      },
      "outputs": [],
      "source": [
        "# Define the details for your Kubernetes workload\n",
        "workload_details = WorkloadDetails(\n",
        "            project_id=\"gke-rightsize\",\n",
        "            cluster_name=\"online-boutique\",\n",
        "            location=\"us-central1-f\",\n",
        "            namespace=\"default\",\n",
        "            controller_name=\"frontend\",\n",
        "            controller_type=\"Deployment\",\n",
        "            container_name=\"server\"\n",
        "        )"
      ]
    },
    {
      "cell_type": "code",
      "execution_count": null,
      "metadata": {
        "id": "5xVgoZVNAnP_"
      },
      "outputs": [],
      "source": [
        "# ## Step 4: Fetch Aggregated Timeseries Metrics\n",
        "# Use the `get_workload_agg_timeseries` function to fetch CPU and memory usage metrics for the workload.\n",
        "\n",
        "# Define start and end times for analysis\n",
        "def convert_str_time(date_str):\n",
        "        date_object = datetime.strptime(date_str, \"%Y-%m-%d %H:%M:%S%z\")\n",
        "        return(date_object)\n",
        "\n",
        "start_datetime = convert_str_time(ANALYSIS_PERIOD_START_DATETIME)\n",
        "end_datetime = convert_str_time(ANALYSIS_PERIOD_END_DATETIME)\n",
        "\n",
        "workload_df = get_workload_agg_timeseries(\n",
        "        hpa_config,workload_details,start_datetime, end_datetime\n",
        "        )"
      ]
    },
    {
      "cell_type": "code",
      "execution_count": null,
      "metadata": {
        "id": "z4yyIl2vA8Ck"
      },
      "outputs": [],
      "source": [
        "# ## Step 5: Enrich the `workload_details` object with the time it takes for the workload to go from pod scheduling to the ready state.\n",
        "\n",
        "# Add workload startuptime\n",
        "workload_details.scheduled_to_ready_seconds = 30"
      ]
    },
    {
      "cell_type": "code",
      "execution_count": null,
      "metadata": {
        "id": "afyBzLmGBV3D"
      },
      "outputs": [],
      "source": [
        "# ## Step 6: Generate HPA or VPA Simulation Plans\n",
        "# Use the `get_simulation_plans` function to generate scaling recommendations based on historical data.\n",
        "\n",
        "plans, reason = get_hpa_simulation_plans(hpa_config, workload_details, workload_df)"
      ]
    },
    {
      "cell_type": "code",
      "execution_count": null,
      "metadata": {
        "id": "t-xujLb2BwBV"
      },
      "outputs": [],
      "source": [
        "# ## Step 7: Run the Simulation\n",
        "# Simulate the plans to evaluate performance and resource optimization.\n",
        "\n",
        "analysis_df, recomendation,  reasons = run_hpa_simulation_plans(hpa_config, plans, workload_details, workload_df)\n",
        "\n",
        "# ## Step 8: Review Results\n",
        "# Review the generated analysis and recommendations.\n",
        "\n",
        "if analysis_df.empty:\n",
        "    print(\"No suitable recommendations found. Summary:\")\n",
        "    print(reasons)\n",
        "else:\n",
        "    print(\"Recommendations Summary:\")\n",
        "    print(recommendation)\n",
        "    analysis_df[\"recommended_cpu_request\"] = recomendation.hpa_plan.recommended_cpu_request\n",
        "    analysis_df[\"recommended_mem_request_mi\"] = recomendation.hpa_plan.recommended_mem_request_mi\n",
        "\n",
        "# Plot visualizations for recommendation\n",
        "    analysis_df.plot(title=\"CPU Recommendation vs Avg Usage\", x=\"window_begin\", y=[\"recommended_cpu_request\",\"avg_container_cpu_usage\"])\n",
        "    analysis_df.plot(title=\"Memory Recommendation vs Avg Usage (MiB)\", x=\"window_begin\", y=[\"recommended_mem_request_mi\",\"max_containers_mem_usage_mi\"])\n",
        "\n",
        "    analysis_df.plot(title=\"CPU Sum Usage vs Recommendation\", x=\"window_begin\", y=[\"hpa_forecast_sum_cpu_up_and_running\",\"sum_container_cpu_usage\"])\n",
        "    analysis_df.plot(title=\"Memory Sum Usage vs Recommendation (MiB)\", x=\"window_begin\", y=[\"hpa_forecast_sum_mem_up_and_running\",\"sum_containers_mem_usage_mi\"])\n"
      ]
    }
  ],
  "metadata": {
    "colab": {
      "provenance": []
    },
    "kernelspec": {
      "display_name": "Python 3",
      "name": "python3"
    },
    "language_info": {
      "name": "python"
    }
  },
  "nbformat": 4,
  "nbformat_minor": 0
}
